{
 "cells": [
  {
   "cell_type": "markdown",
   "id": "90744be4-23a9-4a1d-ae70-8412fb1ea668",
   "metadata": {
    "tags": []
   },
   "source": [
    "## Download dados de chuva"
   ]
  },
  {
   "cell_type": "code",
   "execution_count": 1,
   "id": "d4bae4c2-ec82-45c7-a551-a05db9a7737d",
   "metadata": {},
   "outputs": [],
   "source": [
    "from pathlib import Path\n",
    "import os\n",
    "\n",
    "caminho_base = os.getcwd()\n",
    "\n",
    "diretorio_saida = Path(f'{caminho_base}/downloads')\n",
    "diretorio_saida.mkdir(exist_ok=True, parents=True)"
   ]
  },
  {
   "cell_type": "markdown",
   "id": "9595cd9f-aec4-4e74-aa21-a3b1933f97ad",
   "metadata": {},
   "source": [
    "#### Observado Satélite - MERGE"
   ]
  },
  {
   "cell_type": "code",
   "execution_count": 2,
   "id": "7eb83f9b-5b8b-48c4-94b2-ce04c33ca18d",
   "metadata": {},
   "outputs": [],
   "source": [
    "from src import cptec_merge"
   ]
  },
  {
   "cell_type": "code",
   "execution_count": null,
   "id": "bb1843c9-288b-400d-b94c-e05e8cd75683",
   "metadata": {},
   "outputs": [],
   "source": [
    "# COMO USAR ESSA BIBLIO : https://github.com/Ramonmurilo/MERGE_CPTEC\n",
    "nome_arquivo_merge = cptec_merge.baixar_dados(discretizacao='diario',hoje=True, diretorio_saida=diretorio_saida)"
   ]
  },
  {
   "cell_type": "markdown",
   "id": "09aae8ed-f398-446f-a6b2-ed0cec121173",
   "metadata": {},
   "source": [
    "#### Previsto CFSv2"
   ]
  },
  {
   "cell_type": "code",
   "execution_count": 3,
   "id": "c81c4cc4-c1f5-476e-92c1-540aacec2858",
   "metadata": {
    "tags": []
   },
   "outputs": [],
   "source": [
    "from src import cfs\n",
    "import pendulum"
   ]
  },
  {
   "cell_type": "code",
   "execution_count": 4,
   "id": "f7dffa5f-b2f5-48b1-9509-6f03e6eb724b",
   "metadata": {},
   "outputs": [
    {
     "name": "stdout",
     "output_type": "stream",
     "text": [
      "20211002 | 18 : Não disponível\n",
      "20211002 | 12 : Não disponível\n",
      "Iniciando downloads ...\n",
      "cfs.20211002/06/monthly_grib_01/flxf.01.2021100206.202111.avrg.grib.grb2 [ok]\n",
      "cfs.20211002/06/monthly_grib_01/flxf.01.2021100206.202112.avrg.grib.grb2 [ok]\n",
      "cfs.20211002/06/monthly_grib_01/flxf.01.2021100206.202201.avrg.grib.grb2 [ok]\n",
      "cfs.20211002/06/monthly_grib_01/flxf.01.2021100206.202202.avrg.grib.grb2 [ok]\n",
      "cfs.20211002/06/monthly_grib_01/flxf.01.2021100206.202203.avrg.grib.grb2 [ok]\n",
      "~~~~ cfs.20211002/06/monthly_grib_01/flxf.01.2021100206.202204.avrg.grib.grb2\n",
      ">>> Erro 404. Após verificado a disponibilidade do arquivo, ainda houve erro no download!\n",
      ">>> Cheque se todos os leads já se encontram disponíveis na página requisitada:\n",
      "https://nomads.ncep.noaa.gov/pub/data/nccf/com/cfs/prod/cfs/cfs.20211002/06/monthly_grib_01/flxf.01.2021100206.202204.avrg.grib.grb2\n",
      ">>>> Caso os dados não estejam disponíveis ainda, recomendamos que use a data_string referente a ontem.\n",
      "\n",
      ">>>> Por padrão, o download será reiniciado a partir da data de ontem\n",
      "Iniciando downloads ...\n",
      "cfs.20211001/18/monthly_grib_01/flxf.01.2021100118.202111.avrg.grib.grb2 [ok]\n",
      "cfs.20211001/18/monthly_grib_01/flxf.01.2021100118.202112.avrg.grib.grb2 [ok]\n",
      "cfs.20211001/18/monthly_grib_01/flxf.01.2021100118.202201.avrg.grib.grb2 [ok]\n",
      "cfs.20211001/18/monthly_grib_01/flxf.01.2021100118.202202.avrg.grib.grb2 [ok]\n",
      "cfs.20211001/18/monthly_grib_01/flxf.01.2021100118.202203.avrg.grib.grb2 [ok]\n",
      "cfs.20211001/18/monthly_grib_01/flxf.01.2021100118.202204.avrg.grib.grb2 [ok]\n",
      "cfs.20211001/18/monthly_grib_01/flxf.01.2021100118.202205.avrg.grib.grb2 [ok]\n",
      "cfs.20210930/18/monthly_grib_01/flxf.01.2021093018.202111.avrg.grib.grb2 [ok]\n",
      "cfs.20210930/18/monthly_grib_01/flxf.01.2021093018.202112.avrg.grib.grb2 [ok]\n",
      "cfs.20210930/18/monthly_grib_01/flxf.01.2021093018.202201.avrg.grib.grb2 [ok]\n",
      "cfs.20210930/18/monthly_grib_01/flxf.01.2021093018.202202.avrg.grib.grb2 [ok]\n",
      "cfs.20210930/18/monthly_grib_01/flxf.01.2021093018.202203.avrg.grib.grb2 [ok]\n",
      "cfs.20210930/18/monthly_grib_01/flxf.01.2021093018.202204.avrg.grib.grb2 [ok]\n",
      "cfs.20210930/18/monthly_grib_01/flxf.01.2021093018.202205.avrg.grib.grb2 [ok]\n",
      "cfs.20210929/18/monthly_grib_01/flxf.01.2021092918.202111.avrg.grib.grb2 [ok]\n",
      "cfs.20210929/18/monthly_grib_01/flxf.01.2021092918.202112.avrg.grib.grb2 [ok]\n",
      "cfs.20210929/18/monthly_grib_01/flxf.01.2021092918.202201.avrg.grib.grb2 [ok]\n",
      "cfs.20210929/18/monthly_grib_01/flxf.01.2021092918.202202.avrg.grib.grb2 [ok]\n",
      "cfs.20210929/18/monthly_grib_01/flxf.01.2021092918.202203.avrg.grib.grb2 [ok]\n",
      "cfs.20210929/18/monthly_grib_01/flxf.01.2021092918.202204.avrg.grib.grb2 [ok]\n",
      "cfs.20210929/18/monthly_grib_01/flxf.01.2021092918.202205.avrg.grib.grb2 [ok]\n",
      "cfs.20210928/18/monthly_grib_01/flxf.01.2021092818.202111.avrg.grib.grb2 [ok]\n",
      "cfs.20210928/18/monthly_grib_01/flxf.01.2021092818.202112.avrg.grib.grb2 [ok]\n",
      "cfs.20210928/18/monthly_grib_01/flxf.01.2021092818.202201.avrg.grib.grb2 [ok]\n",
      "cfs.20210928/18/monthly_grib_01/flxf.01.2021092818.202202.avrg.grib.grb2 [ok]\n",
      "cfs.20210928/18/monthly_grib_01/flxf.01.2021092818.202203.avrg.grib.grb2 [ok]\n",
      "cfs.20210928/18/monthly_grib_01/flxf.01.2021092818.202204.avrg.grib.grb2 [ok]\n",
      "cfs.20210928/18/monthly_grib_01/flxf.01.2021092818.202205.avrg.grib.grb2 [ok]\n",
      "cfs.20210927/18/monthly_grib_01/flxf.01.2021092718.202111.avrg.grib.grb2 [ok]\n",
      "cfs.20210927/18/monthly_grib_01/flxf.01.2021092718.202112.avrg.grib.grb2 [ok]\n",
      "cfs.20210927/18/monthly_grib_01/flxf.01.2021092718.202201.avrg.grib.grb2 [ok]\n",
      "cfs.20210927/18/monthly_grib_01/flxf.01.2021092718.202202.avrg.grib.grb2 [ok]\n",
      "cfs.20210927/18/monthly_grib_01/flxf.01.2021092718.202203.avrg.grib.grb2 [ok]\n",
      "cfs.20210927/18/monthly_grib_01/flxf.01.2021092718.202204.avrg.grib.grb2 [ok]\n",
      "cfs.20210927/18/monthly_grib_01/flxf.01.2021092718.202205.avrg.grib.grb2 [ok]\n",
      "cfs.20210926/18/monthly_grib_01/flxf.01.2021092618.202111.avrg.grib.grb2 [ok]\n",
      "cfs.20210926/18/monthly_grib_01/flxf.01.2021092618.202112.avrg.grib.grb2 [ok]\n",
      "cfs.20210926/18/monthly_grib_01/flxf.01.2021092618.202201.avrg.grib.grb2 [ok]\n",
      "cfs.20210926/18/monthly_grib_01/flxf.01.2021092618.202202.avrg.grib.grb2 [ok]\n",
      "cfs.20210926/18/monthly_grib_01/flxf.01.2021092618.202203.avrg.grib.grb2 [ok]\n",
      "cfs.20210926/18/monthly_grib_01/flxf.01.2021092618.202204.avrg.grib.grb2 [ok]\n",
      "cfs.20210926/18/monthly_grib_01/flxf.01.2021092618.202205.avrg.grib.grb2 [ok]\n"
     ]
    }
   ],
   "source": [
    "nome_arquivo_cfsv = cfs.baixa_mensal_com_membros(hoje=True, output=diretorio_saida)"
   ]
  },
  {
   "cell_type": "code",
   "execution_count": 5,
   "id": "71aa212e-12cd-4f74-beee-28df7a781ec8",
   "metadata": {},
   "outputs": [
    {
     "data": {
      "text/plain": [
       "{'lead_1': ['flxf.01.2021100118.202111.avrg.grib.grb2',\n",
       "  'flxf.01.2021093018.202111.avrg.grib.grb2',\n",
       "  'flxf.01.2021092918.202111.avrg.grib.grb2',\n",
       "  'flxf.01.2021092818.202111.avrg.grib.grb2',\n",
       "  'flxf.01.2021092718.202111.avrg.grib.grb2',\n",
       "  'flxf.01.2021092618.202111.avrg.grib.grb2'],\n",
       " 'lead_2': ['flxf.01.2021100118.202112.avrg.grib.grb2',\n",
       "  'flxf.01.2021093018.202112.avrg.grib.grb2',\n",
       "  'flxf.01.2021092918.202112.avrg.grib.grb2',\n",
       "  'flxf.01.2021092818.202112.avrg.grib.grb2',\n",
       "  'flxf.01.2021092718.202112.avrg.grib.grb2',\n",
       "  'flxf.01.2021092618.202112.avrg.grib.grb2'],\n",
       " 'lead_3': ['flxf.01.2021100118.202201.avrg.grib.grb2',\n",
       "  'flxf.01.2021093018.202201.avrg.grib.grb2',\n",
       "  'flxf.01.2021092918.202201.avrg.grib.grb2',\n",
       "  'flxf.01.2021092818.202201.avrg.grib.grb2',\n",
       "  'flxf.01.2021092718.202201.avrg.grib.grb2',\n",
       "  'flxf.01.2021092618.202201.avrg.grib.grb2'],\n",
       " 'lead_4': ['flxf.01.2021100118.202202.avrg.grib.grb2',\n",
       "  'flxf.01.2021093018.202202.avrg.grib.grb2',\n",
       "  'flxf.01.2021092918.202202.avrg.grib.grb2',\n",
       "  'flxf.01.2021092818.202202.avrg.grib.grb2',\n",
       "  'flxf.01.2021092718.202202.avrg.grib.grb2',\n",
       "  'flxf.01.2021092618.202202.avrg.grib.grb2'],\n",
       " 'lead_5': ['flxf.01.2021100118.202203.avrg.grib.grb2',\n",
       "  'flxf.01.2021093018.202203.avrg.grib.grb2',\n",
       "  'flxf.01.2021092918.202203.avrg.grib.grb2',\n",
       "  'flxf.01.2021092818.202203.avrg.grib.grb2',\n",
       "  'flxf.01.2021092718.202203.avrg.grib.grb2',\n",
       "  'flxf.01.2021092618.202203.avrg.grib.grb2'],\n",
       " 'lead_6': ['flxf.01.2021100118.202204.avrg.grib.grb2',\n",
       "  'flxf.01.2021093018.202204.avrg.grib.grb2',\n",
       "  'flxf.01.2021092918.202204.avrg.grib.grb2',\n",
       "  'flxf.01.2021092818.202204.avrg.grib.grb2',\n",
       "  'flxf.01.2021092718.202204.avrg.grib.grb2',\n",
       "  'flxf.01.2021092618.202204.avrg.grib.grb2'],\n",
       " 'lead_7': ['flxf.01.2021100118.202205.avrg.grib.grb2',\n",
       "  'flxf.01.2021093018.202205.avrg.grib.grb2',\n",
       "  'flxf.01.2021092918.202205.avrg.grib.grb2',\n",
       "  'flxf.01.2021092818.202205.avrg.grib.grb2',\n",
       "  'flxf.01.2021092718.202205.avrg.grib.grb2',\n",
       "  'flxf.01.2021092618.202205.avrg.grib.grb2']}"
      ]
     },
     "execution_count": 5,
     "metadata": {},
     "output_type": "execute_result"
    }
   ],
   "source": [
    "nome_arquivo_cfsv"
   ]
  },
  {
   "cell_type": "markdown",
   "id": "a2b35221-3bb7-4f51-9ff5-f503ef243e15",
   "metadata": {},
   "source": [
    "## Recorte"
   ]
  },
  {
   "cell_type": "code",
   "execution_count": 6,
   "id": "8543a31a-e55f-4802-b9fb-74bacd30ecd8",
   "metadata": {},
   "outputs": [],
   "source": [
    "import geopandas as gpd"
   ]
  },
  {
   "cell_type": "code",
   "execution_count": 7,
   "id": "a8d5e347-088e-42bd-a027-5026fbad6e30",
   "metadata": {},
   "outputs": [],
   "source": [
    "contornos = gpd.read_file(f\"{caminho_base}/contornos/contornos_smap.shp\")"
   ]
  },
  {
   "cell_type": "code",
   "execution_count": 8,
   "id": "d8c63015-1cd8-4c01-ace9-82c14da7f52b",
   "metadata": {},
   "outputs": [
    {
     "data": {
      "text/html": [
       "<div>\n",
       "<style scoped>\n",
       "    .dataframe tbody tr th:only-of-type {\n",
       "        vertical-align: middle;\n",
       "    }\n",
       "\n",
       "    .dataframe tbody tr th {\n",
       "        vertical-align: top;\n",
       "    }\n",
       "\n",
       "    .dataframe thead th {\n",
       "        text-align: right;\n",
       "    }\n",
       "</style>\n",
       "<table border=\"1\" class=\"dataframe\">\n",
       "  <thead>\n",
       "    <tr style=\"text-align: right;\">\n",
       "      <th></th>\n",
       "      <th>Nome</th>\n",
       "      <th>FID</th>\n",
       "      <th>geometry</th>\n",
       "    </tr>\n",
       "  </thead>\n",
       "  <tbody>\n",
       "    <tr>\n",
       "      <th>0</th>\n",
       "      <td>Barra Bonita-Promissão</td>\n",
       "      <td>NaN</td>\n",
       "      <td>POLYGON ((-49.51100 -20.81469, -49.50097 -20.8...</td>\n",
       "    </tr>\n",
       "    <tr>\n",
       "      <th>1</th>\n",
       "      <td>São Simão</td>\n",
       "      <td>NaN</td>\n",
       "      <td>POLYGON ((-47.48836 -15.45417, -47.48396 -15.4...</td>\n",
       "    </tr>\n",
       "    <tr>\n",
       "      <th>2</th>\n",
       "      <td>Três Marias</td>\n",
       "      <td>NaN</td>\n",
       "      <td>MULTIPOLYGON (((-45.81222 -20.46639, -45.81188...</td>\n",
       "    </tr>\n",
       "    <tr>\n",
       "      <th>3</th>\n",
       "      <td>Itá</td>\n",
       "      <td>NaN</td>\n",
       "      <td>MULTIPOLYGON (((-50.74444 -28.62556, -50.74454...</td>\n",
       "    </tr>\n",
       "    <tr>\n",
       "      <th>4</th>\n",
       "      <td>Foz do Areia</td>\n",
       "      <td>NaN</td>\n",
       "      <td>MULTIPOLYGON (((-50.84889 -26.74778, -50.84898...</td>\n",
       "    </tr>\n",
       "    <tr>\n",
       "      <th>5</th>\n",
       "      <td>Serra da Mesa</td>\n",
       "      <td>NaN</td>\n",
       "      <td>MULTIPOLYGON (((-49.01139 -16.14137, -49.01106...</td>\n",
       "    </tr>\n",
       "    <tr>\n",
       "      <th>6</th>\n",
       "      <td>Capivara</td>\n",
       "      <td>NaN</td>\n",
       "      <td>MULTIPOLYGON (((-49.96473 -25.49971, -49.96482...</td>\n",
       "    </tr>\n",
       "    <tr>\n",
       "      <th>7</th>\n",
       "      <td>Furnas</td>\n",
       "      <td>NaN</td>\n",
       "      <td>MULTIPOLYGON (((-45.47389 -22.71944, -45.47355...</td>\n",
       "    </tr>\n",
       "    <tr>\n",
       "      <th>8</th>\n",
       "      <td>Água Vermelha</td>\n",
       "      <td>NaN</td>\n",
       "      <td>MULTIPOLYGON (((-45.47389 -22.71944, -45.47355...</td>\n",
       "    </tr>\n",
       "    <tr>\n",
       "      <th>9</th>\n",
       "      <td>Emborcação</td>\n",
       "      <td>NaN</td>\n",
       "      <td>MULTIPOLYGON (((-47.75861 -18.80777, -47.75871...</td>\n",
       "    </tr>\n",
       "    <tr>\n",
       "      <th>10</th>\n",
       "      <td>Rosana</td>\n",
       "      <td>NaN</td>\n",
       "      <td>MULTIPOLYGON (((-49.96472 -25.49972, -49.96482...</td>\n",
       "    </tr>\n",
       "    <tr>\n",
       "      <th>11</th>\n",
       "      <td>Promissão</td>\n",
       "      <td>NaN</td>\n",
       "      <td>MULTIPOLYGON (((-47.53556 -23.79278, -47.53565...</td>\n",
       "    </tr>\n",
       "    <tr>\n",
       "      <th>12</th>\n",
       "      <td>Tocantins</td>\n",
       "      <td>NaN</td>\n",
       "      <td>POLYGON ((-49.95719 -3.70904, -49.95159 -3.709...</td>\n",
       "    </tr>\n",
       "    <tr>\n",
       "      <th>13</th>\n",
       "      <td>Itaipu</td>\n",
       "      <td>NaN</td>\n",
       "      <td>POLYGON ((-54.07656 -21.57440, -54.00206 -21.6...</td>\n",
       "    </tr>\n",
       "    <tr>\n",
       "      <th>14</th>\n",
       "      <td>Sobradinho</td>\n",
       "      <td>NaN</td>\n",
       "      <td>MULTIPOLYGON (((-45.81222 -20.46638, -45.81189...</td>\n",
       "    </tr>\n",
       "    <tr>\n",
       "      <th>15</th>\n",
       "      <td>Barra Bonita</td>\n",
       "      <td>0.0</td>\n",
       "      <td>POLYGON ((-47.40800 -22.43444, -47.40719 -22.4...</td>\n",
       "    </tr>\n",
       "    <tr>\n",
       "      <th>16</th>\n",
       "      <td>Iguaçu</td>\n",
       "      <td>0.0</td>\n",
       "      <td>POLYGON ((-49.10156 -26.08848, -49.10085 -26.0...</td>\n",
       "    </tr>\n",
       "  </tbody>\n",
       "</table>\n",
       "</div>"
      ],
      "text/plain": [
       "                      Nome  FID  \\\n",
       "0   Barra Bonita-Promissão  NaN   \n",
       "1                São Simão  NaN   \n",
       "2              Três Marias  NaN   \n",
       "3                      Itá  NaN   \n",
       "4             Foz do Areia  NaN   \n",
       "5            Serra da Mesa  NaN   \n",
       "6                 Capivara  NaN   \n",
       "7                   Furnas  NaN   \n",
       "8            Água Vermelha  NaN   \n",
       "9               Emborcação  NaN   \n",
       "10                  Rosana  NaN   \n",
       "11               Promissão  NaN   \n",
       "12               Tocantins  NaN   \n",
       "13                  Itaipu  NaN   \n",
       "14              Sobradinho  NaN   \n",
       "15            Barra Bonita  0.0   \n",
       "16                  Iguaçu  0.0   \n",
       "\n",
       "                                             geometry  \n",
       "0   POLYGON ((-49.51100 -20.81469, -49.50097 -20.8...  \n",
       "1   POLYGON ((-47.48836 -15.45417, -47.48396 -15.4...  \n",
       "2   MULTIPOLYGON (((-45.81222 -20.46639, -45.81188...  \n",
       "3   MULTIPOLYGON (((-50.74444 -28.62556, -50.74454...  \n",
       "4   MULTIPOLYGON (((-50.84889 -26.74778, -50.84898...  \n",
       "5   MULTIPOLYGON (((-49.01139 -16.14137, -49.01106...  \n",
       "6   MULTIPOLYGON (((-49.96473 -25.49971, -49.96482...  \n",
       "7   MULTIPOLYGON (((-45.47389 -22.71944, -45.47355...  \n",
       "8   MULTIPOLYGON (((-45.47389 -22.71944, -45.47355...  \n",
       "9   MULTIPOLYGON (((-47.75861 -18.80777, -47.75871...  \n",
       "10  MULTIPOLYGON (((-49.96472 -25.49972, -49.96482...  \n",
       "11  MULTIPOLYGON (((-47.53556 -23.79278, -47.53565...  \n",
       "12  POLYGON ((-49.95719 -3.70904, -49.95159 -3.709...  \n",
       "13  POLYGON ((-54.07656 -21.57440, -54.00206 -21.6...  \n",
       "14  MULTIPOLYGON (((-45.81222 -20.46638, -45.81189...  \n",
       "15  POLYGON ((-47.40800 -22.43444, -47.40719 -22.4...  \n",
       "16  POLYGON ((-49.10156 -26.08848, -49.10085 -26.0...  "
      ]
     },
     "execution_count": 8,
     "metadata": {},
     "output_type": "execute_result"
    }
   ],
   "source": [
    "contornos"
   ]
  },
  {
   "cell_type": "markdown",
   "id": "16696704-ddef-4573-8403-94d6e55e92e2",
   "metadata": {},
   "source": [
    "#### Recorte previsão | CFSv2"
   ]
  },
  {
   "cell_type": "code",
   "execution_count": 13,
   "id": "5a84450e-7f19-4dde-9e85-a6cc514dbf85",
   "metadata": {},
   "outputs": [],
   "source": [
    "from src import recorte_chuva\n",
    "import xarray as xr"
   ]
  },
  {
   "cell_type": "code",
   "execution_count": null,
   "id": "bb8df11a-bd55-47a9-81da-2d2ef66079f9",
   "metadata": {},
   "outputs": [],
   "source": [
    "dicionario = {}\n",
    "leads = ['lead_1','lead_2','lead_3','lead_4','lead_5','lead_6','lead_7']"
   ]
  },
  {
   "cell_type": "code",
   "execution_count": null,
   "id": "750e4c34-979f-433b-9852-16a36d456167",
   "metadata": {},
   "outputs": [],
   "source": [
    "dados = xr.open_dataset(f'{nome_arquivo_cfsv}')\n",
    "dado_convertido = dados.precip*30"
   ]
  },
  {
   "cell_type": "code",
   "execution_count": 21,
   "id": "9591e876-e1d7-4594-9ed0-3e6e1c678895",
   "metadata": {},
   "outputs": [
    {
     "name": "stdout",
     "output_type": "stream",
     "text": [
      "nome bacia : observado do dia baixado \n",
      "\n",
      ">>>> lead_1\n",
      "Barra Bonita-Promissão-membro 0 : 274.4064025878906\n",
      "Barra Bonita-Promissão-membro 1 : 341.97119140625\n",
      "Barra Bonita-Promissão-membro 2 : 395.7983703613281\n",
      "Barra Bonita-Promissão-membro 3 : 121.47840118408203\n",
      "Barra Bonita-Promissão-membro 4 : 243.90721130371094\n",
      "Barra Bonita-Promissão-membro 5 : 187.0559844970703\n",
      ">>>> lead_2\n",
      "Barra Bonita-Promissão-membro 0 : 303.0047912597656\n",
      "Barra Bonita-Promissão-membro 1 : 149.38560485839844\n",
      "Barra Bonita-Promissão-membro 2 : 293.3280029296875\n",
      "Barra Bonita-Promissão-membro 3 : 116.72640228271484\n",
      "Barra Bonita-Promissão-membro 4 : 343.1808166503906\n",
      "Barra Bonita-Promissão-membro 5 : 87.78240966796875\n",
      ">>>> lead_3\n",
      "Barra Bonita-Promissão-membro 0 : 227.3184051513672\n",
      "Barra Bonita-Promissão-membro 1 : 359.85595703125\n",
      "Barra Bonita-Promissão-membro 2 : 429.9263916015625\n",
      "Barra Bonita-Promissão-membro 3 : 239.5872039794922\n",
      "Barra Bonita-Promissão-membro 4 : 530.7551879882812\n",
      "Barra Bonita-Promissão-membro 5 : 253.32481384277344\n",
      ">>>> lead_4\n",
      "Barra Bonita-Promissão-membro 0 : 345.4272155761719\n",
      "Barra Bonita-Promissão-membro 1 : 544.2335815429688\n",
      "Barra Bonita-Promissão-membro 2 : 264.9888000488281\n",
      "Barra Bonita-Promissão-membro 3 : 265.852783203125\n",
      "Barra Bonita-Promissão-membro 4 : 474.1632080078125\n",
      "Barra Bonita-Promissão-membro 5 : 266.4576110839844\n",
      ">>>> lead_5\n",
      "Barra Bonita-Promissão-membro 0 : 175.4783935546875\n",
      "Barra Bonita-Promissão-membro 1 : 87.43679809570312\n",
      "Barra Bonita-Promissão-membro 2 : 417.1391906738281\n",
      "Barra Bonita-Promissão-membro 3 : 215.135986328125\n",
      "Barra Bonita-Promissão-membro 4 : 133.9199981689453\n",
      "Barra Bonita-Promissão-membro 5 : 247.9679718017578\n",
      ">>>> lead_6\n",
      "Barra Bonita-Promissão-membro 0 : 52.876800537109375\n",
      "Barra Bonita-Promissão-membro 1 : 174.0095977783203\n",
      "Barra Bonita-Promissão-membro 2 : 168.47999572753906\n",
      "Barra Bonita-Promissão-membro 3 : 86.05440521240234\n",
      "Barra Bonita-Promissão-membro 4 : 122.6880111694336\n",
      "Barra Bonita-Promissão-membro 5 : 287.8847961425781\n",
      ">>>> lead_7\n",
      "Barra Bonita-Promissão-membro 0 : 40.694400787353516\n",
      "Barra Bonita-Promissão-membro 1 : 125.02079010009766\n",
      "Barra Bonita-Promissão-membro 2 : 84.84480285644531\n",
      "Barra Bonita-Promissão-membro 3 : 19.26719856262207\n",
      "Barra Bonita-Promissão-membro 4 : 122.68798828125\n",
      "Barra Bonita-Promissão-membro 5 : 47.34720230102539\n"
     ]
    }
   ],
   "source": [
    "print('nome bacia : observado do dia baixado \\n')\n",
    "#for shapefile in range(0,len(contornos)):\n",
    "for lead in leads:\n",
    "    print(f'>>>> {lead}')\n",
    "    membro=0\n",
    "    for nome_arquivo in nome_arquivo_cfsv[lead]:\n",
    "\n",
    "        dados = xr.open_dataset(f'downloads/{nome_arquivo}', filter_by_keys={'typeOfLevel': 'surface'}, engine='cfgrib')\n",
    "        dados = dados.prate + dados.cprat\n",
    "        dado_convertido = dados*60*60*24*30\n",
    "\n",
    "        dado_recortado = recorte_chuva.main(dados=dado_convertido, contorno=contornos.geometry[0], tipo='grib')\n",
    "        media_bacia = dado_recortado.mean(dim=[\"latitude\", \"longitude\"])\n",
    "        print(f'{contornos.Nome[0]}-membro {membro} : {media_bacia.values}')\n",
    "        membro += 1"
   ]
  },
  {
   "cell_type": "markdown",
   "id": "0ec38b25-47d4-4158-b2a4-e9d135686cda",
   "metadata": {},
   "source": [
    "#### Recorte observado | MERGE"
   ]
  },
  {
   "cell_type": "code",
   "execution_count": null,
   "id": "0c9ff943-c783-4810-97e1-d2b50d7e75ce",
   "metadata": {},
   "outputs": [],
   "source": [
    "from src import recorte_chuva\n",
    "import xarray as xr"
   ]
  },
  {
   "cell_type": "code",
   "execution_count": null,
   "id": "af12c062-f68e-44d7-a516-0d8bf6b3a485",
   "metadata": {},
   "outputs": [],
   "source": [
    "dados = xr.open_dataset(f'{diretorio_saida}/{nome_arquivo_merge}')\n",
    "dado_convertido = dados.prec"
   ]
  },
  {
   "cell_type": "code",
   "execution_count": null,
   "id": "fdab8329-eeda-4e34-b1d9-631e4a66f907",
   "metadata": {},
   "outputs": [],
   "source": [
    "print('nome bacia : observado do dia baixado \\n')\n",
    "for shapefile in range(0,len(contornos)):\n",
    "    \n",
    "    dado_recortado = recorte_chuva.main(dados=dado_convertido, contorno=contornos.geometry[shapefile], tipo='grib')\n",
    "    media_bacia = dado_recortado.mean(dim=[\"latitude\", \"longitude\"])\n",
    "    print(f'{contornos.Nome[shapefile]} : {media_bacia.values}')"
   ]
  },
  {
   "cell_type": "markdown",
   "id": "7f036deb-2bb7-4204-964b-d7b13275ba31",
   "metadata": {},
   "source": [
    "## Gera txt CFSv2"
   ]
  },
  {
   "cell_type": "code",
   "execution_count": null,
   "id": "e5bd4d48-3480-4fc8-bc2b-e46850eeacec",
   "metadata": {},
   "outputs": [],
   "source": [
    "import pandas as pd"
   ]
  },
  {
   "cell_type": "code",
   "execution_count": 24,
   "id": "9f6038bb-1ffc-4f22-ae98-757a5935e8f5",
   "metadata": {},
   "outputs": [],
   "source": [
    "bacia_nome_shpfile_para_nome_txt = {'Barra Bonita-Promissão':'bbonita-promissao',\n",
    "                                    'São Simão':'sao_simao',\n",
    "                                    'Três Marias':'tres_marias',\n",
    "                                    'Itá':'ita', # só tem 1 itá\n",
    "                                    'Foz do Areia':'foz_do_areia',\n",
    "                                    'Serra da Mesa':'serradamesa', # só tem 1\n",
    "                                    'Capivara':'capivara',\n",
    "                                    'Furnas':'furnas',\n",
    "                                    'Água Vermelha':'agua_vermelha',\n",
    "                                    'Emborcação':'emborcacao',\n",
    "                                    'Rosana':'rosana', #nao tinha no exmplo do regis\n",
    "                                    'Promissão':'promissao', #nao tinha no exemplo do regis\n",
    "                                    'Tocantins':'tocantins_araguaia',\n",
    "                                    'Itaipu':'itaipu', #aqui não tem direito e esquerdo\n",
    "                                    'Sobradinho':'sobradinho',\n",
    "                                    'Barra Bonita':'barrabonita',\n",
    "                                    'Iguaçu':'iguacu', #nao tinha no exemplo do regis\n",
    "                                    'naotem_saltosantiago':'nao tem esse shapefile1',\n",
    "                                    'naotem_belomonte':'nao tem esse shapefile2',\n",
    "                                    'naotem_paranapanema':'nao tem esse shapefile3',\n",
    "                                    'naotem_telespires':'nao tem esse shapefile4'\n",
    "                                   }"
   ]
  },
  {
   "cell_type": "code",
   "execution_count": 80,
   "id": "e8967fe5-1fa8-4dc0-b852-c1c72c878c03",
   "metadata": {},
   "outputs": [],
   "source": [
    "dicionario = {}\n",
    "leads = ['lead_1','lead_2','lead_3','lead_4','lead_5','lead_6']\n",
    "\n",
    "diretorio_saida_txt = Path(f'{caminho_base}/output')\n",
    "diretorio_saida_txt.mkdir(exist_ok=True, parents=True)"
   ]
  },
  {
   "cell_type": "code",
   "execution_count": 84,
   "id": "b45e58dd-5c2a-4a4a-b6cc-69270c5c2100",
   "metadata": {},
   "outputs": [
    {
     "name": "stdout",
     "output_type": "stream",
     "text": [
      "\n",
      "##########################\n",
      "Iniciando recortes\n",
      "##########################\n",
      "\n",
      ">>>> lead_1\n",
      "Barra Bonita-Promissão-membro 0 : 274.41\n",
      "Barra Bonita-Promissão-membro 1 : 341.97\n",
      "Barra Bonita-Promissão-membro 2 : 395.8\n",
      "Barra Bonita-Promissão-membro 3 : 121.48\n",
      "Barra Bonita-Promissão-membro 4 : 243.91\n",
      "Barra Bonita-Promissão-membro 5 : 187.06\n",
      ">>>> lead_2\n",
      "Barra Bonita-Promissão-membro 0 : 303.0\n",
      "Barra Bonita-Promissão-membro 1 : 149.39\n",
      "Barra Bonita-Promissão-membro 2 : 293.33\n",
      "Barra Bonita-Promissão-membro 3 : 116.73\n",
      "Barra Bonita-Promissão-membro 4 : 343.18\n",
      "Barra Bonita-Promissão-membro 5 : 87.78\n",
      ">>>> lead_3\n",
      "Barra Bonita-Promissão-membro 0 : 227.32\n",
      "Barra Bonita-Promissão-membro 1 : 359.86\n",
      "Barra Bonita-Promissão-membro 2 : 429.93\n",
      "Barra Bonita-Promissão-membro 3 : 239.59\n",
      "Barra Bonita-Promissão-membro 4 : 530.76\n",
      "Barra Bonita-Promissão-membro 5 : 253.32\n",
      ">>>> lead_4\n",
      "Barra Bonita-Promissão-membro 0 : 345.43\n",
      "Barra Bonita-Promissão-membro 1 : 544.23\n",
      "Barra Bonita-Promissão-membro 2 : 264.99\n",
      "Barra Bonita-Promissão-membro 3 : 265.85\n",
      "Barra Bonita-Promissão-membro 4 : 474.16\n",
      "Barra Bonita-Promissão-membro 5 : 266.46\n",
      ">>>> lead_5\n",
      "Barra Bonita-Promissão-membro 0 : 175.48\n",
      "Barra Bonita-Promissão-membro 1 : 87.44\n",
      "Barra Bonita-Promissão-membro 2 : 417.14\n",
      "Barra Bonita-Promissão-membro 3 : 215.14\n",
      "Barra Bonita-Promissão-membro 4 : 133.92\n",
      "Barra Bonita-Promissão-membro 5 : 247.97\n",
      ">>>> lead_6\n",
      "Barra Bonita-Promissão-membro 0 : 52.88\n",
      "Barra Bonita-Promissão-membro 1 : 174.01\n",
      "Barra Bonita-Promissão-membro 2 : 168.48\n",
      "Barra Bonita-Promissão-membro 3 : 86.05\n",
      "Barra Bonita-Promissão-membro 4 : 122.69\n",
      "Barra Bonita-Promissão-membro 5 : 287.88\n"
     ]
    }
   ],
   "source": [
    "print('\\n##########################\\nIniciando recortes\\n##########################\\n')\n",
    "\n",
    "for shapefile in range(0,len(contornos)):\n",
    "    dict_com_dados_do_txt = {}\n",
    "\n",
    "    for lead in leads:\n",
    "        print(f'>>>> {lead}')\n",
    "        membro=0\n",
    "        data_lead = pendulum.from_format(nome_arquivo_cfsv[lead][0][19:25], 'YYYYMM')\n",
    "        lista_com_prev_de_cada_linha_do_txt = [data_lead.format('YYYY'), data_lead.format('MM'), data_lead.format('DD')]\n",
    "\n",
    "        for nome_arquivo in nome_arquivo_cfsv[lead]:\n",
    "            dados = xr.open_dataset(f'downloads/{nome_arquivo}', filter_by_keys={'typeOfLevel': 'surface'}, engine='cfgrib')\n",
    "            dados = dados.prate + dados.cprat\n",
    "            dado_convertido = dados*60*60*24*30\n",
    "\n",
    "            dado_recortado = recorte_chuva.main(dados=dado_convertido, contorno=contornos.geometry[shapefile], tipo='grib')\n",
    "            media_bacia = dado_recortado.mean(dim=[\"latitude\", \"longitude\"]) #resultado vem como array\n",
    "            valor_media_bacia = float(format(media_bacia.values,'.2f')) #formata para 2 dígitos decimais\n",
    "            print(f'{contornos.Nome[shapefile]}-membro {membro} : {valor_media_bacia}')\n",
    "            membro += 1\n",
    "            lista_com_prev_de_cada_linha_do_txt.append(valor_media_bacia)\n",
    "\n",
    "        dict_com_dados_do_txt[lead] = lista_com_prev_de_cada_linha_do_txt\n",
    "        \n",
    "    df = pd.DataFrame.from_dict(dict_com_dados_do_txt, orient='index')\n",
    "    df.to_csv(f'{diretorio_saida_txt}/{bacia_nome_shpfile_para_nome_txt[contornos.Nome[shapefile]]}.dat',index=False, header=False, sep=' ')"
   ]
  },
  {
   "cell_type": "code",
   "execution_count": 85,
   "id": "ecdd780f-b7c4-4e03-b19c-6d810e380756",
   "metadata": {},
   "outputs": [
    {
     "data": {
      "text/plain": [
       "{'lead_1': ['2021', '11', '01', 274.41, 341.97, 395.8, 121.48, 243.91, 187.06],\n",
       " 'lead_2': ['2021', '12', '01', 303.0, 149.39, 293.33, 116.73, 343.18, 87.78],\n",
       " 'lead_3': ['2022',\n",
       "  '01',\n",
       "  '01',\n",
       "  227.32,\n",
       "  359.86,\n",
       "  429.93,\n",
       "  239.59,\n",
       "  530.76,\n",
       "  253.32],\n",
       " 'lead_4': ['2022',\n",
       "  '02',\n",
       "  '01',\n",
       "  345.43,\n",
       "  544.23,\n",
       "  264.99,\n",
       "  265.85,\n",
       "  474.16,\n",
       "  266.46],\n",
       " 'lead_5': ['2022', '03', '01', 175.48, 87.44, 417.14, 215.14, 133.92, 247.97],\n",
       " 'lead_6': ['2022', '04', '01', 52.88, 174.01, 168.48, 86.05, 122.69, 287.88]}"
      ]
     },
     "execution_count": 85,
     "metadata": {},
     "output_type": "execute_result"
    }
   ],
   "source": [
    "dict_com_dados_do_txt"
   ]
  },
  {
   "cell_type": "code",
   "execution_count": 100,
   "id": "39b1dc75-df46-40fa-a023-2848c89dda8e",
   "metadata": {},
   "outputs": [],
   "source": [
    "df = pd.DataFrame.from_dict(dict_com_dados_do_txt, orient='index')\n",
    "df.to_csv(f'{diretorio_saida_txt}/{bacia_nome_shpfile_para_nome_txt[\"Barra Bonita-Promissão\"]}.dat',index=False, header=False, sep=' ')"
   ]
  }
 ],
 "metadata": {
  "kernelspec": {
   "display_name": "Python 3 (ipykernel)",
   "language": "python",
   "name": "python3"
  },
  "language_info": {
   "codemirror_mode": {
    "name": "ipython",
    "version": 3
   },
   "file_extension": ".py",
   "mimetype": "text/x-python",
   "name": "python",
   "nbconvert_exporter": "python",
   "pygments_lexer": "ipython3",
   "version": "3.9.7"
  }
 },
 "nbformat": 4,
 "nbformat_minor": 5
}
