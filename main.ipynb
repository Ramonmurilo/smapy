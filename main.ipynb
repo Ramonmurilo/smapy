{
 "cells": [
  {
   "cell_type": "markdown",
   "id": "90744be4-23a9-4a1d-ae70-8412fb1ea668",
   "metadata": {
    "tags": []
   },
   "source": [
    "## Download dados de chuva"
   ]
  },
  {
   "cell_type": "code",
   "execution_count": 1,
   "id": "d4bae4c2-ec82-45c7-a551-a05db9a7737d",
   "metadata": {},
   "outputs": [],
   "source": [
    "from pathlib import Path\n",
    "import os\n",
    "\n",
    "caminho_base = os.getcwd()\n",
    "\n",
    "diretorio_saida = Path(f'{caminho_base}/downloads')\n",
    "diretorio_saida.mkdir(exist_ok=True, parents=True)"
   ]
  },
  {
   "cell_type": "markdown",
   "id": "9595cd9f-aec4-4e74-aa21-a3b1933f97ad",
   "metadata": {},
   "source": [
    "#### Observado Satélite - MERGE"
   ]
  },
  {
   "cell_type": "code",
   "execution_count": 2,
   "id": "7eb83f9b-5b8b-48c4-94b2-ce04c33ca18d",
   "metadata": {},
   "outputs": [],
   "source": [
    "from src import cptec_merge"
   ]
  },
  {
   "cell_type": "code",
   "execution_count": 3,
   "id": "bb1843c9-288b-400d-b94c-e05e8cd75683",
   "metadata": {},
   "outputs": [
    {
     "name": "stdout",
     "output_type": "stream",
     "text": [
      "MERGE_CPTEC_20210930.grib2 [ok]\n"
     ]
    }
   ],
   "source": [
    "# COMO USAR ESSA BIBLIO : https://github.com/Ramonmurilo/MERGE_CPTEC\n",
    "nome_arquivo_merge = cptec_merge.baixar_dados(discretizacao='diario',hoje=True, diretorio_saida=diretorio_saida)"
   ]
  },
  {
   "cell_type": "markdown",
   "id": "09aae8ed-f398-446f-a6b2-ed0cec121173",
   "metadata": {},
   "source": [
    "#### Previsto CFSv2"
   ]
  },
  {
   "cell_type": "code",
   "execution_count": 4,
   "id": "c81c4cc4-c1f5-476e-92c1-540aacec2858",
   "metadata": {
    "tags": []
   },
   "outputs": [],
   "source": [
    "from src import cfs\n",
    "import pendulum"
   ]
  },
  {
   "cell_type": "code",
   "execution_count": 5,
   "id": "f7dffa5f-b2f5-48b1-9509-6f03e6eb724b",
   "metadata": {},
   "outputs": [
    {
     "name": "stdout",
     "output_type": "stream",
     "text": [
      "SepIC_cfsv2_precip_anom_stdanom.ctl [ok]\n",
      "SepIC_cfsv2_precip_anom_stdanom.dat [ok]\n",
      "/mnt/c/scripts/smapy/downloads/SepIC_cfsv2_precip_anom_stdanom.nc [ok]\n"
     ]
    }
   ],
   "source": [
    "nome_arquivo_cfsv = cfs.baixa_mensal(hoje=True, output=diretorio_saida)"
   ]
  },
  {
   "cell_type": "markdown",
   "id": "a2b35221-3bb7-4f51-9ff5-f503ef243e15",
   "metadata": {},
   "source": [
    "## Recorte"
   ]
  },
  {
   "cell_type": "code",
   "execution_count": 6,
   "id": "8543a31a-e55f-4802-b9fb-74bacd30ecd8",
   "metadata": {},
   "outputs": [],
   "source": [
    "#import requests\n",
    "#from pathlib import Path\n",
    "#import pendulum\n",
    "#import sys\n",
    "#import os\n",
    "import geopandas as gpd"
   ]
  },
  {
   "cell_type": "code",
   "execution_count": 7,
   "id": "a8d5e347-088e-42bd-a027-5026fbad6e30",
   "metadata": {},
   "outputs": [],
   "source": [
    "contornos = gpd.read_file(f\"{caminho_base}/contornos/contornos_smap.shp\")"
   ]
  },
  {
   "cell_type": "code",
   "execution_count": 8,
   "id": "d8c63015-1cd8-4c01-ace9-82c14da7f52b",
   "metadata": {},
   "outputs": [
    {
     "data": {
      "text/html": [
       "<div>\n",
       "<style scoped>\n",
       "    .dataframe tbody tr th:only-of-type {\n",
       "        vertical-align: middle;\n",
       "    }\n",
       "\n",
       "    .dataframe tbody tr th {\n",
       "        vertical-align: top;\n",
       "    }\n",
       "\n",
       "    .dataframe thead th {\n",
       "        text-align: right;\n",
       "    }\n",
       "</style>\n",
       "<table border=\"1\" class=\"dataframe\">\n",
       "  <thead>\n",
       "    <tr style=\"text-align: right;\">\n",
       "      <th></th>\n",
       "      <th>Nome</th>\n",
       "      <th>FID</th>\n",
       "      <th>geometry</th>\n",
       "    </tr>\n",
       "  </thead>\n",
       "  <tbody>\n",
       "    <tr>\n",
       "      <th>0</th>\n",
       "      <td>Barra Bonita-Promissão</td>\n",
       "      <td>NaN</td>\n",
       "      <td>POLYGON ((-49.51100 -20.81469, -49.50097 -20.8...</td>\n",
       "    </tr>\n",
       "    <tr>\n",
       "      <th>1</th>\n",
       "      <td>São Simão</td>\n",
       "      <td>NaN</td>\n",
       "      <td>POLYGON ((-47.48836 -15.45417, -47.48396 -15.4...</td>\n",
       "    </tr>\n",
       "    <tr>\n",
       "      <th>2</th>\n",
       "      <td>Três Marias</td>\n",
       "      <td>NaN</td>\n",
       "      <td>MULTIPOLYGON (((-45.81222 -20.46639, -45.81188...</td>\n",
       "    </tr>\n",
       "    <tr>\n",
       "      <th>3</th>\n",
       "      <td>Itá</td>\n",
       "      <td>NaN</td>\n",
       "      <td>MULTIPOLYGON (((-50.74444 -28.62556, -50.74454...</td>\n",
       "    </tr>\n",
       "    <tr>\n",
       "      <th>4</th>\n",
       "      <td>Foz do Areia</td>\n",
       "      <td>NaN</td>\n",
       "      <td>MULTIPOLYGON (((-50.84889 -26.74778, -50.84898...</td>\n",
       "    </tr>\n",
       "    <tr>\n",
       "      <th>5</th>\n",
       "      <td>Serra da Mesa</td>\n",
       "      <td>NaN</td>\n",
       "      <td>MULTIPOLYGON (((-49.01139 -16.14137, -49.01106...</td>\n",
       "    </tr>\n",
       "    <tr>\n",
       "      <th>6</th>\n",
       "      <td>Capivara</td>\n",
       "      <td>NaN</td>\n",
       "      <td>MULTIPOLYGON (((-49.96473 -25.49971, -49.96482...</td>\n",
       "    </tr>\n",
       "    <tr>\n",
       "      <th>7</th>\n",
       "      <td>Furnas</td>\n",
       "      <td>NaN</td>\n",
       "      <td>MULTIPOLYGON (((-45.47389 -22.71944, -45.47355...</td>\n",
       "    </tr>\n",
       "    <tr>\n",
       "      <th>8</th>\n",
       "      <td>Água Vermelha</td>\n",
       "      <td>NaN</td>\n",
       "      <td>MULTIPOLYGON (((-45.47389 -22.71944, -45.47355...</td>\n",
       "    </tr>\n",
       "    <tr>\n",
       "      <th>9</th>\n",
       "      <td>Emborcação</td>\n",
       "      <td>NaN</td>\n",
       "      <td>MULTIPOLYGON (((-47.75861 -18.80777, -47.75871...</td>\n",
       "    </tr>\n",
       "    <tr>\n",
       "      <th>10</th>\n",
       "      <td>Rosana</td>\n",
       "      <td>NaN</td>\n",
       "      <td>MULTIPOLYGON (((-49.96472 -25.49972, -49.96482...</td>\n",
       "    </tr>\n",
       "    <tr>\n",
       "      <th>11</th>\n",
       "      <td>Promissão</td>\n",
       "      <td>NaN</td>\n",
       "      <td>MULTIPOLYGON (((-47.53556 -23.79278, -47.53565...</td>\n",
       "    </tr>\n",
       "    <tr>\n",
       "      <th>12</th>\n",
       "      <td>Tocantins</td>\n",
       "      <td>NaN</td>\n",
       "      <td>POLYGON ((-49.95719 -3.70904, -49.95159 -3.709...</td>\n",
       "    </tr>\n",
       "    <tr>\n",
       "      <th>13</th>\n",
       "      <td>Itaipu</td>\n",
       "      <td>NaN</td>\n",
       "      <td>POLYGON ((-54.07656 -21.57440, -54.00206 -21.6...</td>\n",
       "    </tr>\n",
       "    <tr>\n",
       "      <th>14</th>\n",
       "      <td>Sobradinho</td>\n",
       "      <td>NaN</td>\n",
       "      <td>MULTIPOLYGON (((-45.81222 -20.46638, -45.81189...</td>\n",
       "    </tr>\n",
       "    <tr>\n",
       "      <th>15</th>\n",
       "      <td>Barra Bonita</td>\n",
       "      <td>0.0</td>\n",
       "      <td>POLYGON ((-47.40800 -22.43444, -47.40719 -22.4...</td>\n",
       "    </tr>\n",
       "    <tr>\n",
       "      <th>16</th>\n",
       "      <td>Iguaçu</td>\n",
       "      <td>0.0</td>\n",
       "      <td>POLYGON ((-49.10156 -26.08848, -49.10085 -26.0...</td>\n",
       "    </tr>\n",
       "  </tbody>\n",
       "</table>\n",
       "</div>"
      ],
      "text/plain": [
       "                      Nome  FID  \\\n",
       "0   Barra Bonita-Promissão  NaN   \n",
       "1                São Simão  NaN   \n",
       "2              Três Marias  NaN   \n",
       "3                      Itá  NaN   \n",
       "4             Foz do Areia  NaN   \n",
       "5            Serra da Mesa  NaN   \n",
       "6                 Capivara  NaN   \n",
       "7                   Furnas  NaN   \n",
       "8            Água Vermelha  NaN   \n",
       "9               Emborcação  NaN   \n",
       "10                  Rosana  NaN   \n",
       "11               Promissão  NaN   \n",
       "12               Tocantins  NaN   \n",
       "13                  Itaipu  NaN   \n",
       "14              Sobradinho  NaN   \n",
       "15            Barra Bonita  0.0   \n",
       "16                  Iguaçu  0.0   \n",
       "\n",
       "                                             geometry  \n",
       "0   POLYGON ((-49.51100 -20.81469, -49.50097 -20.8...  \n",
       "1   POLYGON ((-47.48836 -15.45417, -47.48396 -15.4...  \n",
       "2   MULTIPOLYGON (((-45.81222 -20.46639, -45.81188...  \n",
       "3   MULTIPOLYGON (((-50.74444 -28.62556, -50.74454...  \n",
       "4   MULTIPOLYGON (((-50.84889 -26.74778, -50.84898...  \n",
       "5   MULTIPOLYGON (((-49.01139 -16.14137, -49.01106...  \n",
       "6   MULTIPOLYGON (((-49.96473 -25.49971, -49.96482...  \n",
       "7   MULTIPOLYGON (((-45.47389 -22.71944, -45.47355...  \n",
       "8   MULTIPOLYGON (((-45.47389 -22.71944, -45.47355...  \n",
       "9   MULTIPOLYGON (((-47.75861 -18.80777, -47.75871...  \n",
       "10  MULTIPOLYGON (((-49.96472 -25.49972, -49.96482...  \n",
       "11  MULTIPOLYGON (((-47.53556 -23.79278, -47.53565...  \n",
       "12  POLYGON ((-49.95719 -3.70904, -49.95159 -3.709...  \n",
       "13  POLYGON ((-54.07656 -21.57440, -54.00206 -21.6...  \n",
       "14  MULTIPOLYGON (((-45.81222 -20.46638, -45.81189...  \n",
       "15  POLYGON ((-47.40800 -22.43444, -47.40719 -22.4...  \n",
       "16  POLYGON ((-49.10156 -26.08848, -49.10085 -26.0...  "
      ]
     },
     "execution_count": 8,
     "metadata": {},
     "output_type": "execute_result"
    }
   ],
   "source": [
    "contornos"
   ]
  },
  {
   "cell_type": "markdown",
   "id": "16696704-ddef-4573-8403-94d6e55e92e2",
   "metadata": {},
   "source": [
    "#### Recorte previsão | CFSv2"
   ]
  },
  {
   "cell_type": "code",
   "execution_count": 9,
   "id": "5a84450e-7f19-4dde-9e85-a6cc514dbf85",
   "metadata": {},
   "outputs": [],
   "source": [
    "from src import recorte_chuva\n",
    "import xarray as xr"
   ]
  },
  {
   "cell_type": "code",
   "execution_count": null,
   "id": "750e4c34-979f-433b-9852-16a36d456167",
   "metadata": {},
   "outputs": [],
   "source": [
    "dados = xr.open_dataset(f'{nome_arquivo_cfsv}')\n",
    "dado_convertido = dados.precip*30"
   ]
  },
  {
   "cell_type": "code",
   "execution_count": 12,
   "id": "a497ce27-32e7-4d78-872d-60255d3b45ff",
   "metadata": {},
   "outputs": [
    {
     "name": "stdout",
     "output_type": "stream",
     "text": [
      "nome bacia : [lead1 lead2 ... lead6]\n",
      "\n",
      "Barra Bonita-Promissão : [112.051346 106.778244 153.44235  184.57068  167.1435   103.93921 ]\n",
      "São Simão : [114.75792 179.10951 246.51021 276.15622 264.47482 220.34431]\n",
      "Três Marias : [131.5413  191.36519 250.04158 258.7248  221.71861 152.19899]\n",
      "Itá : [206.23816 140.25555 163.64632 177.66743 159.00096 134.56935]\n",
      "Foz do Areia : [185.97601 145.3329  152.8551  170.06761 158.41711 125.9253 ]\n",
      "Serra da Mesa : [126.64552 231.68631 300.14752 307.35858 315.64484 297.66486]\n",
      "Capivara : [150.39069 125.67454 151.92157 197.72911 179.08694 122.45074]\n",
      "Furnas : [180.33192 201.92813 253.96416 281.06512 260.61264 161.82341]\n",
      "Água Vermelha : [145.31468 165.17589 223.57619 254.82532 237.48528 156.89362]\n",
      "Rosana : [147.4362  122.8023  150.2658  195.5466  177.12991 121.3479 ]\n",
      "Rosana : [147.4362  122.8023  150.2658  195.5466  177.12991 121.3479 ]\n",
      "Promissão : [127.97999 120.7791  161.87851 202.34006 183.99757 112.97272]\n",
      "Tocantins : [ 60.99182 182.35307 284.87085 306.15152 336.1402  330.54297]\n",
      "Itaipu : [137.1955  119.11743 150.25499 170.08553 165.32216 127.59988]\n",
      "Sobradinho : [ 92.76823 215.17058 273.25836 264.08936 265.3416  226.29005]\n",
      "Barra Bonita : [143.90863 134.77995 170.31465 220.1094  200.85165 122.00623]\n",
      "Iguaçu : [186.75198 145.18765 152.3529  172.37448 159.33672 123.9138 ]\n"
     ]
    }
   ],
   "source": [
    "print('nome bacia : [lead1 lead2 ... lead6]\\n')\n",
    "for shapefile in range(0,len(contornos)):\n",
    "    \n",
    "    # Emborcação tá com problema | to gerando Rosana 2x\n",
    "    shapefile = 10 if shapefile==9 else shapefile # A chuva do MERGE é recortada para somente o brasil, se a bacia estiver fora do território dá problema ('-.-)\n",
    "    \n",
    "    dado_recortado = recorte_chuva.main(dados=dado_convertido, contorno=contornos.geometry[shapefile], tipo='nc')\n",
    "    media_bacia = dado_recortado.mean(dim=[\"lat\", \"lon\"])\n",
    "    print(f'{contornos.Nome[shapefile]} : {media_bacia.values}')"
   ]
  },
  {
   "cell_type": "markdown",
   "id": "0ec38b25-47d4-4158-b2a4-e9d135686cda",
   "metadata": {},
   "source": [
    "#### Recorte observado | MERGE"
   ]
  },
  {
   "cell_type": "code",
   "execution_count": 13,
   "id": "0c9ff943-c783-4810-97e1-d2b50d7e75ce",
   "metadata": {},
   "outputs": [],
   "source": [
    "from src import recorte_chuva\n",
    "import xarray as xr"
   ]
  },
  {
   "cell_type": "code",
   "execution_count": 14,
   "id": "af12c062-f68e-44d7-a516-0d8bf6b3a485",
   "metadata": {},
   "outputs": [],
   "source": [
    "dados = xr.open_dataset(f'{diretorio_saida}/{nome_arquivo_merge}')\n",
    "dado_convertido = dados.prec"
   ]
  },
  {
   "cell_type": "code",
   "execution_count": 48,
   "id": "fdab8329-eeda-4e34-b1d9-631e4a66f907",
   "metadata": {},
   "outputs": [
    {
     "name": "stdout",
     "output_type": "stream",
     "text": [
      "nome bacia : observado do dia baixado \n",
      "\n",
      "Barra Bonita-Promissão : 0.24302326142787933\n",
      "São Simão : 0.445016473531723\n",
      "Três Marias : 2.6150341033935547\n",
      "Itá : 0.9672029614448547\n",
      "Foz do Areia : 0.08535447716712952\n",
      "Serra da Mesa : 1.774369239807129\n",
      "Capivara : 0.23290172219276428\n",
      "Furnas : 2.7045199871063232\n",
      "Água Vermelha : 1.2514450550079346\n",
      "Emborcação : 0.3428714871406555\n",
      "Rosana : 0.2178051471710205\n",
      "Promissão : 0.1242469847202301\n",
      "Tocantins : 0.3932192623615265\n",
      "Itaipu : 1.1688050031661987\n",
      "Sobradinho : 0.6278287172317505\n",
      "Barra Bonita : 0.03496503457427025\n",
      "Iguaçu : 0.8700248599052429\n"
     ]
    }
   ],
   "source": [
    "print('nome bacia : observado do dia baixado \\n')\n",
    "for shapefile in range(0,len(contornos)):\n",
    "    \n",
    "    dado_recortado = recorte_chuva.main(dados=dado_convertido, contorno=contornos.geometry[shapefile], tipo='grib')\n",
    "    media_bacia = dado_recortado.mean(dim=[\"latitude\", \"longitude\"])\n",
    "    print(f'{contornos.Nome[shapefile]} : {media_bacia.values}')"
   ]
  }
 ],
 "metadata": {
  "kernelspec": {
   "display_name": "Python 3 (ipykernel)",
   "language": "python",
   "name": "python3"
  },
  "language_info": {
   "codemirror_mode": {
    "name": "ipython",
    "version": 3
   },
   "file_extension": ".py",
   "mimetype": "text/x-python",
   "name": "python",
   "nbconvert_exporter": "python",
   "pygments_lexer": "ipython3",
   "version": "3.9.7"
  }
 },
 "nbformat": 4,
 "nbformat_minor": 5
}
